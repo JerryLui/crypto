{
 "cells": [
  {
   "cell_type": "code",
   "execution_count": 33,
   "metadata": {
    "scrolled": false
   },
   "outputs": [
    {
     "name": "stdout",
     "output_type": "stream",
     "text": [
      "Updating market cap...\n",
      "Data is already up to date!\n",
      "\n",
      "Updating coins...\n",
      "BCH data from 03-January-2018 has been successfully updated to 04-January-2018 and written to price/bch.csv\n",
      "IOTA data from 03-January-2018 has been successfully updated to 04-January-2018 and written to price/iota.csv\n",
      "TRX data from 03-January-2018 has been successfully updated to 04-January-2018 and written to price/trx.csv\n",
      "LTC data from 03-January-2018 has been successfully updated to 04-January-2018 and written to price/ltc.csv\n",
      "ETH data from 03-January-2018 has been successfully updated to 04-January-2018 and written to price/eth.csv\n",
      "ADA data from 03-January-2018 has been successfully updated to 04-January-2018 and written to price/ada.csv\n",
      "DASH data from 03-January-2018 has been successfully updated to 04-January-2018 and written to price/dash.csv\n",
      "BTC data from 03-January-2018 has been successfully updated to 04-January-2018 and written to price/btc.csv\n",
      "XEM data from 03-January-2018 has been successfully updated to 04-January-2018 and written to price/xem.csv\n",
      "XLM data from 03-January-2018 has been successfully updated to 04-January-2018 and written to price/xlm.csv\n",
      "XRP data from 03-January-2018 has been successfully updated to 04-January-2018 and written to price/xrp.csv\n",
      "XMR data from 03-January-2018 has been successfully updated to 04-January-2018 and written to price/xmr.csv\n",
      "All downloads finished!\n",
      "\n"
     ]
    },
    {
     "ename": "SystemExit",
     "evalue": "wallet_users.csv doesn't match url data.",
     "output_type": "error",
     "traceback": [
      "An exception has occurred, use %tb to see the full traceback.\n",
      "\u001b[1;31mSystemExit\u001b[0m\u001b[1;31m:\u001b[0m wallet_users.csv doesn't match url data.\n"
     ]
    },
    {
     "name": "stderr",
     "output_type": "stream",
     "text": [
      "C:\\IntelPython3\\lib\\site-packages\\IPython\\core\\interactiveshell.py:2870: UserWarning: To exit: use 'exit', 'quit', or Ctrl-D.\n",
      "  warn(\"To exit: use 'exit', 'quit', or Ctrl-D.\", stacklevel=1)\n"
     ]
    }
   ],
   "source": [
    "# Update all data by scraping data\n",
    "import downloader\n",
    "\n",
    "try:\n",
    "    downloader.update_market_cap()\n",
    "except Exception as e:\n",
    "    print(e)\n",
    "    pass\n",
    "try:\n",
    "    downloader.update_coins()\n",
    "except Exception as e:\n",
    "    print(e)\n",
    "    pass"
   ]
  },
  {
   "cell_type": "code",
   "execution_count": null,
   "metadata": {
    "collapsed": true
   },
   "outputs": [],
   "source": [
    "import pandas as pd\n",
    "import seaborn as sns\n",
    "import matplotlib\n",
    "import matplotlib.pyplot as plt\n",
    "import numpy as np\n",
    "import re\n",
    "\n",
    "%matplotlib notebook"
   ]
  },
  {
   "cell_type": "markdown",
   "metadata": {},
   "source": [
    "#### Load data\n",
    "Import price data from csv files and add them to a list "
   ]
  },
  {
   "cell_type": "code",
   "execution_count": null,
   "metadata": {
    "collapsed": true
   },
   "outputs": [],
   "source": [
    "# Load all data from folder\n",
    "import os\n",
    "\n",
    "# Location of files\n",
    "folder = '../price/'\n",
    "tail = '.csv'\n",
    "filenames = os.listdir(folder)\n",
    "    \n",
    "# Get the supplied coin name\n",
    "coins = list(map(lambda x: re.sub(tail, '', x).upper(), filenames))\n",
    "\n",
    "# Load data\n",
    "df_list = []\n",
    "for filename in filenames:\n",
    "    df_list.append(pd.read_csv(folder + filename, delimiter='\\t', index_col='Date', parse_dates=True))\n",
    "    # input(filename + ' loaded.\\nEnter to proceed')    # Debug for file read errors.\n",
    "\n",
    "\n",
    "# Clear up each list\n",
    "for index, df in enumerate(df_list):\n",
    "    # Drop all columns except Date and Market Cap \n",
    "    df = df.drop(['Open', 'High', 'Low', 'Close', 'Volume'], axis=1)\n",
    "    # Convert Date column datatype to Date\n",
    "    #df.index = pd.to_datetime(df.index)    \n",
    "    \n",
    "    # Convert Market Cap column datatype to numeric\n",
    "    df['Market Cap'] = df['Market Cap'].str.replace(',', '')    # Remove commas\n",
    "    df = df[df['Market Cap'].str.contains('-') == False]        # Delete missing data\n",
    "    df['Market Cap'] = pd.to_numeric(df['Market Cap'])\n",
    "    \n",
    "    # Replace previous dataframe\n",
    "    df_list[index] = df \n",
    "    "
   ]
  },
  {
   "cell_type": "code",
   "execution_count": null,
   "metadata": {
    "collapsed": true
   },
   "outputs": [],
   "source": [
    "# Print df info\n",
    "for index, df in enumerate(df_list):\n",
    "    print('[' + str(index) + '] Ticker: ' + coins[index])\n",
    "    df.info()\n",
    "    print('--'*25)\n",
    "    print(df.head())\n",
    "    print('><'*25)"
   ]
  },
  {
   "cell_type": "code",
   "execution_count": null,
   "metadata": {
    "collapsed": true
   },
   "outputs": [],
   "source": [
    "# Load total market cap data\n",
    "market_cap_df = pd.read_csv('data/total_market_cap.csv', index_col='Date', parse_dates=True)\n",
    "market_cap_df.head()"
   ]
  },
  {
   "cell_type": "markdown",
   "metadata": {},
   "source": [
    "Combine all coin dataframes to one single dataframe. The new dataframe is then resampled into weekly mean to fit the market cap data. To better visualize it's relation to benford's law the dataframe is then converted into percentage of total market cap."
   ]
  },
  {
   "cell_type": "code",
   "execution_count": null,
   "metadata": {
    "collapsed": true
   },
   "outputs": [],
   "source": [
    "len_list = [len(df) for df in df_list]\n",
    "coin_index = len_list.index(max(len_list))    # Find index of coin with oldest data\n",
    "\n",
    "# Create new data frame with coins as columns\n",
    "cc_df = pd.DataFrame([], columns=coins, index=df_list[coin_index].index)\n",
    "for i in range(0, len(len_list)):\n",
    "    cc_df[coins[i]] = df_list[i]['Market Cap']\n",
    "    \n",
    "cc_df.head()"
   ]
  },
  {
   "cell_type": "code",
   "execution_count": null,
   "metadata": {
    "collapsed": true
   },
   "outputs": [],
   "source": [
    "# Group by group_period as 7D, since market cap data points set at weekly\n",
    "group_period = '7D'\n",
    "cc_df = cc_df.resample(group_period).mean()\n",
    "cc_df.head()"
   ]
  },
  {
   "cell_type": "code",
   "execution_count": null,
   "metadata": {
    "collapsed": true,
    "scrolled": true
   },
   "outputs": [],
   "source": [
    "# Create ccp with percentage of total market cap\n",
    "ccp_df = cc_df[coins].div(market_cap_df['Total Market Cap'], axis=0)\n",
    "ccp_df = ccp_df[::-1]    # Reverse order of df\n",
    "ccp_df.head()"
   ]
  },
  {
   "cell_type": "markdown",
   "metadata": {},
   "source": [
    "Barplot on each coin's individual coin market cap as percentage of total market cap."
   ]
  },
  {
   "cell_type": "code",
   "execution_count": null,
   "metadata": {
    "collapsed": true
   },
   "outputs": [],
   "source": [
    "# Function to add percentage text on top of each bar in a barplot\n",
    "def add_bar_percentage(ax):\n",
    "    for r in ax.patches:\n",
    "        height = r.get_height()\n",
    "        ax.text(r.get_x()+r.get_width()/2.,    # x-pos of text\n",
    "                height + 0.01,                 # y-pos of text\n",
    "                '{:3.1f}%'.format(height*100), # text string\n",
    "                ha=\"center\") "
   ]
  },
  {
   "cell_type": "code",
   "execution_count": null,
   "metadata": {
    "collapsed": true
   },
   "outputs": [],
   "source": [
    "# Gather benford's distribution percentages\n",
    "num_benfords = 10\n",
    "benfords = [np.log10(1+1/i) for i in range(1, num_benfords + 1)]\n",
    "x_ben = [x for x in range(0, num_benfords)]"
   ]
  },
  {
   "cell_type": "code",
   "execution_count": null,
   "metadata": {
    "collapsed": true,
    "scrolled": false
   },
   "outputs": [],
   "source": [
    "# Plot data for Dec 2017\n",
    "from matplotlib.dates import *\n",
    "\n",
    "row = 0    # Data row to plot\n",
    "row_data = ccp_df.iloc[row]\n",
    "row_date = row_data.name.strftime('%d-%b-%Y')\n",
    "sorted_ = row_data.sort_values(ascending = False)\n",
    "\n",
    "fig, ax = plt.subplots(figsize=(8,4))\n",
    "sns.barplot(sorted_.index.values, sorted_, ax=ax)\n",
    "\n",
    "ax.set_ylim(0, 0.8) # Adjust ylimits\n",
    "\n",
    "# Set percentage ticks on yaxis\n",
    "vals = ax.get_yticks()\n",
    "ax.set_yticklabels(['{:2.0f}%'.format(x*100) for x in vals])\n",
    "ax.set_axisbelow(True)\n",
    "ax.autoscale_view()\n",
    "\n",
    "# Add percentage text ontop of the bars\n",
    "#add_bar_percentage(ax) \n",
    "\n",
    "## Plot benford's diagram\n",
    "# Plot reference points for benford's diagram\n",
    "ben, = plt.plot(x_ben, benfords, 'yD', alpha=0.3, zorder=2)\n",
    "plt.legend([ben], ['Benford\\'s distribution'])\n",
    "\n",
    "# Create smooth interlopation of benfords distr\n",
    "from scipy.interpolate import spline\n",
    "x_smooth = np.linspace(0, 9, 300)\n",
    "benfords_smooth = spline(x_ben, benfords, x_smooth)\n",
    "# Plot smoothed benfords curve\n",
    "plt.plot(x_smooth, benfords_smooth, 'y', alpha=0.4)\n",
    "\n",
    "plt.title('Market Cap ' + row_date)\n",
    "plt.ylabel('Percentage of total market cap')\n",
    "plt.show()"
   ]
  },
  {
   "cell_type": "code",
   "execution_count": null,
   "metadata": {
    "collapsed": true
   },
   "outputs": [],
   "source": [
    "# Plot Benford's law as barplot\n",
    "fig, ax = plt.subplots(figsize=(8,4))\n",
    "sns.barplot([x for x in range(1, num_benfords + 1)], benfords, palette='Blues_r')\n",
    "\n",
    "add_bar_percentage(ax)\n",
    "    \n",
    "# Change y limits and display as percentages\n",
    "ax.set_ylim(0, 0.35)  \n",
    "vals = ax.get_yticks()\n",
    "ax.set_yticklabels(['{:2.0f}%'.format(x*100) for x in vals])\n",
    "ax.set_axisbelow(True)\n",
    "ax.autoscale_view()\n",
    "\n",
    "plt.title('Benford Distribution')\n",
    "plt.show()"
   ]
  },
  {
   "cell_type": "code",
   "execution_count": null,
   "metadata": {
    "collapsed": true
   },
   "outputs": [],
   "source": [
    "import plotly.plotly as py\n",
    "from plotly.graph_objs import *"
   ]
  },
  {
   "cell_type": "code",
   "execution_count": null,
   "metadata": {
    "collapsed": true
   },
   "outputs": [],
   "source": [
    "data = [Bar(x=[x for x in range(0, 10)], y=benfords)]\n",
    "py.iplot(data)"
   ]
  }
 ],
 "metadata": {
  "kernelspec": {
   "display_name": "Python 3",
   "language": "python",
   "name": "python3"
  },
  "language_info": {
   "codemirror_mode": {
    "name": "ipython",
    "version": 3
   },
   "file_extension": ".py",
   "mimetype": "text/x-python",
   "name": "python",
   "nbconvert_exporter": "python",
   "pygments_lexer": "ipython3",
   "version": "3.6.2"
  }
 },
 "nbformat": 4,
 "nbformat_minor": 2
}
